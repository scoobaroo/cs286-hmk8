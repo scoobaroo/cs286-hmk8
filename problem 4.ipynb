{
 "cells": [
  {
   "cell_type": "code",
   "execution_count": 60,
   "metadata": {},
   "outputs": [
    {
     "data": {
      "text/html": [
       "<div>\n",
       "<style scoped>\n",
       "    .dataframe tbody tr th:only-of-type {\n",
       "        vertical-align: middle;\n",
       "    }\n",
       "\n",
       "    .dataframe tbody tr th {\n",
       "        vertical-align: top;\n",
       "    }\n",
       "\n",
       "    .dataframe thead th {\n",
       "        text-align: right;\n",
       "    }\n",
       "</style>\n",
       "<table border=\"1\" class=\"dataframe\">\n",
       "  <thead>\n",
       "    <tr style=\"text-align: right;\">\n",
       "      <th></th>\n",
       "      <th>0</th>\n",
       "      <th>1</th>\n",
       "      <th>2</th>\n",
       "      <th>3</th>\n",
       "      <th>4</th>\n",
       "      <th>5</th>\n",
       "    </tr>\n",
       "  </thead>\n",
       "  <tbody>\n",
       "    <tr>\n",
       "      <th>1</th>\n",
       "      <td>120</td>\n",
       "      <td>7</td>\n",
       "      <td>32</td>\n",
       "      <td>120</td>\n",
       "      <td>4</td>\n",
       "      <td>22</td>\n",
       "    </tr>\n",
       "    <tr>\n",
       "      <th>2</th>\n",
       "      <td>120</td>\n",
       "      <td>7</td>\n",
       "      <td>28</td>\n",
       "      <td>130</td>\n",
       "      <td>5</td>\n",
       "      <td>23</td>\n",
       "    </tr>\n",
       "    <tr>\n",
       "      <th>3</th>\n",
       "      <td>100</td>\n",
       "      <td>6</td>\n",
       "      <td>34</td>\n",
       "      <td>140</td>\n",
       "      <td>5</td>\n",
       "      <td>26</td>\n",
       "    </tr>\n",
       "    <tr>\n",
       "      <th>4</th>\n",
       "      <td>130</td>\n",
       "      <td>5</td>\n",
       "      <td>33</td>\n",
       "      <td>100</td>\n",
       "      <td>5</td>\n",
       "      <td>21</td>\n",
       "    </tr>\n",
       "    <tr>\n",
       "      <th>5</th>\n",
       "      <td>100</td>\n",
       "      <td>6</td>\n",
       "      <td>35</td>\n",
       "      <td>110</td>\n",
       "      <td>6</td>\n",
       "      <td>20</td>\n",
       "    </tr>\n",
       "    <tr>\n",
       "      <th>6</th>\n",
       "      <td>100</td>\n",
       "      <td>5</td>\n",
       "      <td>27</td>\n",
       "      <td>140</td>\n",
       "      <td>7</td>\n",
       "      <td>20</td>\n",
       "    </tr>\n",
       "    <tr>\n",
       "      <th>7</th>\n",
       "      <td>100</td>\n",
       "      <td>6</td>\n",
       "      <td>32</td>\n",
       "      <td>140</td>\n",
       "      <td>3</td>\n",
       "      <td>28</td>\n",
       "    </tr>\n",
       "    <tr>\n",
       "      <th>8</th>\n",
       "      <td>120</td>\n",
       "      <td>6</td>\n",
       "      <td>33</td>\n",
       "      <td>100</td>\n",
       "      <td>4</td>\n",
       "      <td>21</td>\n",
       "    </tr>\n",
       "    <tr>\n",
       "      <th>9</th>\n",
       "      <td>100</td>\n",
       "      <td>8</td>\n",
       "      <td>32</td>\n",
       "      <td>100</td>\n",
       "      <td>4</td>\n",
       "      <td>24</td>\n",
       "    </tr>\n",
       "    <tr>\n",
       "      <th>10</th>\n",
       "      <td>110</td>\n",
       "      <td>6</td>\n",
       "      <td>34</td>\n",
       "      <td>120</td>\n",
       "      <td>7</td>\n",
       "      <td>25</td>\n",
       "    </tr>\n",
       "  </tbody>\n",
       "</table>\n",
       "</div>"
      ],
      "text/plain": [
       "      0  1   2    3  4   5\n",
       "1   120  7  32  120  4  22\n",
       "2   120  7  28  130  5  23\n",
       "3   100  6  34  140  5  26\n",
       "4   130  5  33  100  5  21\n",
       "5   100  6  35  110  6  20\n",
       "6   100  5  27  140  7  20\n",
       "7   100  6  32  140  3  28\n",
       "8   120  6  33  100  4  21\n",
       "9   100  8  32  100  4  24\n",
       "10  110  6  34  120  7  25"
      ]
     },
     "execution_count": 60,
     "metadata": {},
     "output_type": "execute_result"
    }
   ],
   "source": [
    "#problem 7.12\n",
    "import numpy as np\n",
    "import pandas as pd\n",
    "Smalware = np.array([120,120,100,130,100,100,100,120,100,110])\n",
    "Hmalware = np.array([7,7,6,5,6,5,6,6,8,6])\n",
    "Dmalware = np.array([32,28,34,33,35,27,32,33,32,34])\n",
    "Sbenign = np.array([120,130,140,100,110,140,140,100,100,120])\n",
    "Hbenign = np.array([4,5,5,5,6,7,3,4,4,7])\n",
    "Dbenign = np.array([22,23,26,21,20,20,28,21,24,25])\n",
    "df = pd.DataFrame(np.array([Smalware,Hmalware,Dmalware,Sbenign, Hbenign, Dbenign])).transpose()\n",
    "df.index = range(1,11)\n",
    "df"
   ]
  },
  {
   "cell_type": "code",
   "execution_count": 95,
   "metadata": {},
   "outputs": [
    {
     "name": "stdout",
     "output_type": "stream",
     "text": [
      "S score average for subset A: 117.0\n",
      "H score average for subset A: 5.9\n",
      "    Smalware  Hmalware  Sbenign  Hbenign\n",
      "1        120         7      120        4\n",
      "2        120         7      130        5\n",
      "3        100         6      140        5\n",
      "5        100         6      110        6\n",
      "10       110         6      120        7\n"
     ]
    }
   ],
   "source": [
    "df.columns =  ['Smalware','Hmalware','Dmalware','Sbenign','Hbenign','Dbenign']\n",
    "df\n",
    "subsetA = df.drop([4,6,7,8,9])\n",
    "subsetA = subsetA.drop(columns=['Dmalware', 'Dbenign'])\n",
    "subsetA\n",
    "SmalwareMean = subsetA['Smalware'].mean()\n",
    "SmalwareMean\n",
    "SbenignMean = subsetA['Sbenign'].mean()\n",
    "SbenignMean\n",
    "SsubsetAaverage = (SmalwareMean + SbenignMean)/2\n",
    "SsubsetAaverage\n",
    "HmalwareMean = subsetA['Hmalware'].mean()\n",
    "HbenignMean = subsetA['Hbenign'].mean()\n",
    "HsubsetAaverage = (HmalwareMean + HbenignMean)/2\n",
    "HsubsetAaverage\n",
    "print(\"S score average for subset A:\", SsubsetAaverage)\n",
    "print(\"H score average for subset A:\", HsubsetAaverage)\n",
    "print(subsetA)"
   ]
  },
  {
   "cell_type": "code",
   "execution_count": 89,
   "metadata": {},
   "outputs": [
    {
     "name": "stdout",
     "output_type": "stream",
     "text": [
      "S score average for subset B: 112.0\n",
      "D score average for subset B: 29.0\n"
     ]
    },
    {
     "data": {
      "text/html": [
       "<div>\n",
       "<style scoped>\n",
       "    .dataframe tbody tr th:only-of-type {\n",
       "        vertical-align: middle;\n",
       "    }\n",
       "\n",
       "    .dataframe tbody tr th {\n",
       "        vertical-align: top;\n",
       "    }\n",
       "\n",
       "    .dataframe thead th {\n",
       "        text-align: right;\n",
       "    }\n",
       "</style>\n",
       "<table border=\"1\" class=\"dataframe\">\n",
       "  <thead>\n",
       "    <tr style=\"text-align: right;\">\n",
       "      <th></th>\n",
       "      <th>Smalware</th>\n",
       "      <th>Dmalware</th>\n",
       "      <th>Sbenign</th>\n",
       "      <th>Dbenign</th>\n",
       "    </tr>\n",
       "  </thead>\n",
       "  <tbody>\n",
       "    <tr>\n",
       "      <th>3</th>\n",
       "      <td>100</td>\n",
       "      <td>34</td>\n",
       "      <td>140</td>\n",
       "      <td>26</td>\n",
       "    </tr>\n",
       "    <tr>\n",
       "      <th>5</th>\n",
       "      <td>100</td>\n",
       "      <td>35</td>\n",
       "      <td>110</td>\n",
       "      <td>20</td>\n",
       "    </tr>\n",
       "    <tr>\n",
       "      <th>7</th>\n",
       "      <td>100</td>\n",
       "      <td>32</td>\n",
       "      <td>140</td>\n",
       "      <td>28</td>\n",
       "    </tr>\n",
       "    <tr>\n",
       "      <th>9</th>\n",
       "      <td>100</td>\n",
       "      <td>32</td>\n",
       "      <td>100</td>\n",
       "      <td>24</td>\n",
       "    </tr>\n",
       "    <tr>\n",
       "      <th>10</th>\n",
       "      <td>110</td>\n",
       "      <td>34</td>\n",
       "      <td>120</td>\n",
       "      <td>25</td>\n",
       "    </tr>\n",
       "  </tbody>\n",
       "</table>\n",
       "</div>"
      ],
      "text/plain": [
       "    Smalware  Dmalware  Sbenign  Dbenign\n",
       "3        100        34      140       26\n",
       "5        100        35      110       20\n",
       "7        100        32      140       28\n",
       "9        100        32      100       24\n",
       "10       110        34      120       25"
      ]
     },
     "execution_count": 89,
     "metadata": {},
     "output_type": "execute_result"
    }
   ],
   "source": [
    "subsetB = df.drop([1,2,4,6,8])\n",
    "subsetB = subsetB.drop(columns=['Hmalware', 'Hbenign'])\n",
    "subsetB\n",
    "SmalwareMean = subsetB['Smalware'].mean()\n",
    "SmalwareMean\n",
    "SbenignMean = subsetB['Sbenign'].mean()\n",
    "SbenignMean\n",
    "SsubsetBaverage = (SmalwareMean + SbenignMean)/2\n",
    "SsubsetBaverage\n",
    "DmalwareMean = subsetB['Dmalware'].mean()\n",
    "DbenignMean = subsetB['Dbenign'].mean()\n",
    "DsubsetBaverage = (DmalwareMean + DbenignMean)/2\n",
    "print(\"S score average for subset B:\", SsubsetBaverage)\n",
    "print(\"D score average for subset B:\", DsubsetBaverage)\n",
    "subsetB"
   ]
  },
  {
   "cell_type": "code",
   "execution_count": 106,
   "metadata": {},
   "outputs": [
    {
     "name": "stdout",
     "output_type": "stream",
     "text": [
      "H score average for subset C: 5.8\n",
      "D score average for subset C: 26.5\n"
     ]
    }
   ],
   "source": [
    "subsetC = df.drop([3,4,5,7,9])\n",
    "subsetC = subsetC.drop(columns=['Smalware', 'Sbenign'])\n",
    "subsetC\n",
    "HmalwareMean = subsetC['Hmalware'].mean()\n",
    "HmalwareMean\n",
    "HbenignMean = subsetC['Hbenign'].mean()\n",
    "HbenignMean\n",
    "HsubsetCaverage = (HmalwareMean + HbenignMean)/2\n",
    "HsubsetCaverage\n",
    "DmalwareMean = subsetC['Dmalware'].mean()\n",
    "DbenignMean = subsetC['Dbenign'].mean()\n",
    "DsubsetCaverage = (DmalwareMean + DbenignMean)/2\n",
    "print(\"H score average for subset C:\", HsubsetCaverage)\n",
    "print(\"D score average for subset C:\", DsubsetCaverage)"
   ]
  },
  {
   "cell_type": "code",
   "execution_count": 42,
   "metadata": {},
   "outputs": [],
   "source": [
    "A = [1,2,3,5,10]\n",
    "B = [3,5,7,9,10]\n",
    "C = [1,2,6,8,10]"
   ]
  },
  {
   "cell_type": "code",
   "execution_count": 97,
   "metadata": {},
   "outputs": [
    {
     "data": {
      "text/plain": [
       "0.029049405545331419"
      ]
     },
     "execution_count": 97,
     "metadata": {},
     "output_type": "execute_result"
    }
   ],
   "source": [
    "def calculateEntropy(split):\n",
    "    entropy = -split*np.log2(split) - (1-split)*np.log2(1-split)\n",
    "    return entropy\n",
    "calculateEntropy(3/5)\n",
    "def calculateInformationGain(entropy):\n",
    "    return 1 - entropy\n",
    "caclculateInformationGain(calculateEntropy(3/5))\n"
   ]
  },
  {
   "cell_type": "code",
   "execution_count": 98,
   "metadata": {},
   "outputs": [
    {
     "data": {
      "text/html": [
       "<div>\n",
       "<style scoped>\n",
       "    .dataframe tbody tr th:only-of-type {\n",
       "        vertical-align: middle;\n",
       "    }\n",
       "\n",
       "    .dataframe tbody tr th {\n",
       "        vertical-align: top;\n",
       "    }\n",
       "\n",
       "    .dataframe thead th {\n",
       "        text-align: right;\n",
       "    }\n",
       "</style>\n",
       "<table border=\"1\" class=\"dataframe\">\n",
       "  <thead>\n",
       "    <tr style=\"text-align: right;\">\n",
       "      <th></th>\n",
       "      <th>Smalware</th>\n",
       "      <th>Hmalware</th>\n",
       "      <th>Sbenign</th>\n",
       "      <th>Hbenign</th>\n",
       "    </tr>\n",
       "  </thead>\n",
       "  <tbody>\n",
       "    <tr>\n",
       "      <th>1</th>\n",
       "      <td>120</td>\n",
       "      <td>7</td>\n",
       "      <td>120</td>\n",
       "      <td>4</td>\n",
       "    </tr>\n",
       "    <tr>\n",
       "      <th>2</th>\n",
       "      <td>120</td>\n",
       "      <td>7</td>\n",
       "      <td>130</td>\n",
       "      <td>5</td>\n",
       "    </tr>\n",
       "    <tr>\n",
       "      <th>3</th>\n",
       "      <td>100</td>\n",
       "      <td>6</td>\n",
       "      <td>140</td>\n",
       "      <td>5</td>\n",
       "    </tr>\n",
       "    <tr>\n",
       "      <th>5</th>\n",
       "      <td>100</td>\n",
       "      <td>6</td>\n",
       "      <td>110</td>\n",
       "      <td>6</td>\n",
       "    </tr>\n",
       "    <tr>\n",
       "      <th>10</th>\n",
       "      <td>110</td>\n",
       "      <td>6</td>\n",
       "      <td>120</td>\n",
       "      <td>7</td>\n",
       "    </tr>\n",
       "  </tbody>\n",
       "</table>\n",
       "</div>"
      ],
      "text/plain": [
       "    Smalware  Hmalware  Sbenign  Hbenign\n",
       "1        120         7      120        4\n",
       "2        120         7      130        5\n",
       "3        100         6      140        5\n",
       "5        100         6      110        6\n",
       "10       110         6      120        7"
      ]
     },
     "execution_count": 98,
     "metadata": {},
     "output_type": "execute_result"
    }
   ],
   "source": [
    "subsetA"
   ]
  },
  {
   "cell_type": "code",
   "execution_count": 122,
   "metadata": {},
   "outputs": [
    {
     "name": "stdout",
     "output_type": "stream",
     "text": [
      "Subset A's information Gain for feature S:  0.0290494055453\n",
      "Subset A's information Gain for feature H:  0.118709100769\n",
      "Feature H has higher information Gain so it is the root of subsetA's decision tree.\n"
     ]
    }
   ],
   "source": [
    "# decision tree for subset A:\n",
    "# information Gain for feature S:\n",
    "infoGainS = calculateInformationGain(calculateEntropy(3/5))\n",
    "print(\"Subset A's information Gain for feature S: \", infoGainS)\n",
    "# information Gain for feature H:\n",
    "infoGainH = calculateInformationGain(calculateEntropy(7/10))\n",
    "print(\"Subset A's information Gain for feature H: \", infoGainH)\n",
    "print(\"Feature H has higher information Gain so it is the root of subsetA's decision tree.\")"
   ]
  },
  {
   "cell_type": "code",
   "execution_count": 101,
   "metadata": {},
   "outputs": [
    {
     "data": {
      "text/html": [
       "<div>\n",
       "<style scoped>\n",
       "    .dataframe tbody tr th:only-of-type {\n",
       "        vertical-align: middle;\n",
       "    }\n",
       "\n",
       "    .dataframe tbody tr th {\n",
       "        vertical-align: top;\n",
       "    }\n",
       "\n",
       "    .dataframe thead th {\n",
       "        text-align: right;\n",
       "    }\n",
       "</style>\n",
       "<table border=\"1\" class=\"dataframe\">\n",
       "  <thead>\n",
       "    <tr style=\"text-align: right;\">\n",
       "      <th></th>\n",
       "      <th>Smalware</th>\n",
       "      <th>Dmalware</th>\n",
       "      <th>Sbenign</th>\n",
       "      <th>Dbenign</th>\n",
       "    </tr>\n",
       "  </thead>\n",
       "  <tbody>\n",
       "    <tr>\n",
       "      <th>3</th>\n",
       "      <td>100</td>\n",
       "      <td>34</td>\n",
       "      <td>140</td>\n",
       "      <td>26</td>\n",
       "    </tr>\n",
       "    <tr>\n",
       "      <th>5</th>\n",
       "      <td>100</td>\n",
       "      <td>35</td>\n",
       "      <td>110</td>\n",
       "      <td>20</td>\n",
       "    </tr>\n",
       "    <tr>\n",
       "      <th>7</th>\n",
       "      <td>100</td>\n",
       "      <td>32</td>\n",
       "      <td>140</td>\n",
       "      <td>28</td>\n",
       "    </tr>\n",
       "    <tr>\n",
       "      <th>9</th>\n",
       "      <td>100</td>\n",
       "      <td>32</td>\n",
       "      <td>100</td>\n",
       "      <td>24</td>\n",
       "    </tr>\n",
       "    <tr>\n",
       "      <th>10</th>\n",
       "      <td>110</td>\n",
       "      <td>34</td>\n",
       "      <td>120</td>\n",
       "      <td>25</td>\n",
       "    </tr>\n",
       "  </tbody>\n",
       "</table>\n",
       "</div>"
      ],
      "text/plain": [
       "    Smalware  Dmalware  Sbenign  Dbenign\n",
       "3        100        34      140       26\n",
       "5        100        35      110       20\n",
       "7        100        32      140       28\n",
       "9        100        32      100       24\n",
       "10       110        34      120       25"
      ]
     },
     "execution_count": 101,
     "metadata": {},
     "output_type": "execute_result"
    }
   ],
   "source": [
    "subsetB\n",
    "# S score average for subset B: 112.0\n",
    "# D score average for subset B: 29.0"
   ]
  },
  {
   "cell_type": "code",
   "execution_count": 121,
   "metadata": {},
   "outputs": [
    {
     "name": "stdout",
     "output_type": "stream",
     "text": [
      "Subset B's information Gain for feature S:  0.118709100769\n",
      "Subset B's information Gain for feature D:  0.0\n",
      "Feature S has higher information Gain so it is the root of subsetB's decision tree.\n"
     ]
    }
   ],
   "source": [
    "# decision tree for subset B:\n",
    "# information Gain for feature S:\n",
    "infoGainS = calculateInformationGain(calculateEntropy(3/10))\n",
    "print(\"Subset B's information Gain for feature S: \", infoGainS)\n",
    "# information Gain for feature D:\n",
    "infoGainD = calculateInformationGain(calculateEntropy(5/10))\n",
    "print(\"Subset B's information Gain for feature D: \", infoGainD)\n",
    "print(\"Feature S has higher information Gain so it is the root of subsetB's decision tree.\")"
   ]
  },
  {
   "cell_type": "code",
   "execution_count": 108,
   "metadata": {},
   "outputs": [
    {
     "data": {
      "text/html": [
       "<div>\n",
       "<style scoped>\n",
       "    .dataframe tbody tr th:only-of-type {\n",
       "        vertical-align: middle;\n",
       "    }\n",
       "\n",
       "    .dataframe tbody tr th {\n",
       "        vertical-align: top;\n",
       "    }\n",
       "\n",
       "    .dataframe thead th {\n",
       "        text-align: right;\n",
       "    }\n",
       "</style>\n",
       "<table border=\"1\" class=\"dataframe\">\n",
       "  <thead>\n",
       "    <tr style=\"text-align: right;\">\n",
       "      <th></th>\n",
       "      <th>Hmalware</th>\n",
       "      <th>Dmalware</th>\n",
       "      <th>Hbenign</th>\n",
       "      <th>Dbenign</th>\n",
       "    </tr>\n",
       "  </thead>\n",
       "  <tbody>\n",
       "    <tr>\n",
       "      <th>1</th>\n",
       "      <td>7</td>\n",
       "      <td>32</td>\n",
       "      <td>4</td>\n",
       "      <td>22</td>\n",
       "    </tr>\n",
       "    <tr>\n",
       "      <th>2</th>\n",
       "      <td>7</td>\n",
       "      <td>28</td>\n",
       "      <td>5</td>\n",
       "      <td>23</td>\n",
       "    </tr>\n",
       "    <tr>\n",
       "      <th>6</th>\n",
       "      <td>5</td>\n",
       "      <td>27</td>\n",
       "      <td>7</td>\n",
       "      <td>20</td>\n",
       "    </tr>\n",
       "    <tr>\n",
       "      <th>8</th>\n",
       "      <td>6</td>\n",
       "      <td>33</td>\n",
       "      <td>4</td>\n",
       "      <td>21</td>\n",
       "    </tr>\n",
       "    <tr>\n",
       "      <th>10</th>\n",
       "      <td>6</td>\n",
       "      <td>34</td>\n",
       "      <td>7</td>\n",
       "      <td>25</td>\n",
       "    </tr>\n",
       "  </tbody>\n",
       "</table>\n",
       "</div>"
      ],
      "text/plain": [
       "    Hmalware  Dmalware  Hbenign  Dbenign\n",
       "1          7        32        4       22\n",
       "2          7        28        5       23\n",
       "6          5        27        7       20\n",
       "8          6        33        4       21\n",
       "10         6        34        7       25"
      ]
     },
     "execution_count": 108,
     "metadata": {},
     "output_type": "execute_result"
    }
   ],
   "source": [
    "subsetC\n",
    "# H score average for subset C: 5.8\n",
    "# D score average for subset C: 26.5"
   ]
  },
  {
   "cell_type": "code",
   "execution_count": 120,
   "metadata": {},
   "outputs": [
    {
     "name": "stdout",
     "output_type": "stream",
     "text": [
      "Subset C's information Gain for feature H:  0.0290494055453\n",
      "Subset C's information Gain for feature D:  0.0\n",
      "Feature H has higher information Gain so it is the root of subsetC's decision tree.\n"
     ]
    }
   ],
   "source": [
    "# decision tree for subset C:\n",
    "# information Gain for feature H:\n",
    "infoGainH = calculateInformationGain(calculateEntropy(6/10))\n",
    "print(\"Subset C's information Gain for feature H: \", infoGainH)\n",
    "# information Gain for feature D:\n",
    "infoGainD = calculateInformationGain(calculateEntropy(1/2))\n",
    "print(\"Subset C's information Gain for feature D: \", infoGainD)\n",
    "print(\"Feature H has higher information Gain so it is the root of subsetC's decision tree.\")"
   ]
  },
  {
   "cell_type": "code",
   "execution_count": 113,
   "metadata": {},
   "outputs": [],
   "source": [
    "S = [100,130,115,105,140]\n",
    "H = [7,7,4,4,6]\n",
    "D = [27,28,30,35,30]"
   ]
  },
  {
   "cell_type": "code",
   "execution_count": 128,
   "metadata": {},
   "outputs": [
    {
     "data": {
      "text/html": [
       "<div>\n",
       "<style scoped>\n",
       "    .dataframe tbody tr th:only-of-type {\n",
       "        vertical-align: middle;\n",
       "    }\n",
       "\n",
       "    .dataframe tbody tr th {\n",
       "        vertical-align: top;\n",
       "    }\n",
       "\n",
       "    .dataframe thead th {\n",
       "        text-align: right;\n",
       "    }\n",
       "</style>\n",
       "<table border=\"1\" class=\"dataframe\">\n",
       "  <thead>\n",
       "    <tr style=\"text-align: right;\">\n",
       "      <th></th>\n",
       "      <th>S</th>\n",
       "      <th>H</th>\n",
       "      <th>D</th>\n",
       "    </tr>\n",
       "  </thead>\n",
       "  <tbody>\n",
       "    <tr>\n",
       "      <th>1</th>\n",
       "      <td>100</td>\n",
       "      <td>7</td>\n",
       "      <td>27</td>\n",
       "    </tr>\n",
       "    <tr>\n",
       "      <th>2</th>\n",
       "      <td>130</td>\n",
       "      <td>7</td>\n",
       "      <td>28</td>\n",
       "    </tr>\n",
       "    <tr>\n",
       "      <th>3</th>\n",
       "      <td>115</td>\n",
       "      <td>4</td>\n",
       "      <td>30</td>\n",
       "    </tr>\n",
       "    <tr>\n",
       "      <th>4</th>\n",
       "      <td>105</td>\n",
       "      <td>4</td>\n",
       "      <td>35</td>\n",
       "    </tr>\n",
       "    <tr>\n",
       "      <th>5</th>\n",
       "      <td>140</td>\n",
       "      <td>6</td>\n",
       "      <td>30</td>\n",
       "    </tr>\n",
       "  </tbody>\n",
       "</table>\n",
       "</div>"
      ],
      "text/plain": [
       "     S  H   D\n",
       "1  100  7  27\n",
       "2  130  7  28\n",
       "3  115  4  30\n",
       "4  105  4  35\n",
       "5  140  6  30"
      ]
     },
     "execution_count": 128,
     "metadata": {},
     "output_type": "execute_result"
    }
   ],
   "source": [
    "dfTest = pd.DataFrame([S,H,D]).transpose()\n",
    "dfTest.columns=['S','H','D']\n",
    "dfTest.index = range(1,6)\n",
    "dfTest"
   ]
  },
  {
   "cell_type": "code",
   "execution_count": 123,
   "metadata": {},
   "outputs": [],
   "source": [
    "class Node():\n",
    "    def __init__(self,left,right,data):\n",
    "        self.left = left\n",
    "        self.right = right\n",
    "        self.data = data\n",
    "secondLevelNodeC = Node(\"Malware\",\"Benign\",26.5)"
   ]
  }
 ],
 "metadata": {
  "kernelspec": {
   "display_name": "Python 3",
   "language": "python",
   "name": "python3"
  },
  "language_info": {
   "codemirror_mode": {
    "name": "ipython",
    "version": 3
   },
   "file_extension": ".py",
   "mimetype": "text/x-python",
   "name": "python",
   "nbconvert_exporter": "python",
   "pygments_lexer": "ipython3",
   "version": "3.6.2"
  }
 },
 "nbformat": 4,
 "nbformat_minor": 2
}
