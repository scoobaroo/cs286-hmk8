{
 "cells": [
  {
   "cell_type": "code",
   "execution_count": 317,
   "metadata": {},
   "outputs": [
    {
     "data": {
      "text/plain": [
       "0.19919517102615694"
      ]
     },
     "execution_count": 317,
     "metadata": {},
     "output_type": "execute_result"
    }
   ],
   "source": [
    "#problem 7.15\n",
    "(0.99 * 0.005) / (0.99*0.005 + 0.02*0.995) "
   ]
  },
  {
   "cell_type": "code",
   "execution_count": 360,
   "metadata": {},
   "outputs": [],
   "source": [
    "#problem 7.12\n",
    "import numpy as np\n",
    "import pandas as pd\n",
    "X = np.array([[1.25,3],[1.5,2],[2,2.75],[2.25,2],[2,0.5],[3.25,0.75],[3.5,2.25],[4.25,0.75]])\n",
    "Y = np.array([[2.75,3.5],[3.25,3],[4.5,2.75],[3.5,4.75]])\n"
   ]
  },
  {
   "cell_type": "code",
   "execution_count": 361,
   "metadata": {},
   "outputs": [],
   "source": [
    "muX = np.mean(X, axis=0).transpose()\n",
    "muY = np.mean(Y, axis=0).transpose()\n",
    "\n",
    "muX = np.array([muX]).transpose()\n",
    "muY = np.array([muY]).transpose()"
   ]
  },
  {
   "cell_type": "code",
   "execution_count": 362,
   "metadata": {},
   "outputs": [],
   "source": [
    "Sx = 0\n",
    "for i in range(len(X)):\n",
    "    Sx += (np.array([X[i]]).transpose()-muX).dot((np.array([X[i]]).transpose()-muX).transpose())"
   ]
  },
  {
   "cell_type": "code",
   "execution_count": 363,
   "metadata": {},
   "outputs": [],
   "source": [
    "Sy = 0\n",
    "for i in range(len(Y)):\n",
    "    Sy += (np.array([Y[i]]).transpose()-muY).dot((np.array([Y[i]]).transpose()-muY).transpose())"
   ]
  },
  {
   "cell_type": "code",
   "execution_count": 364,
   "metadata": {},
   "outputs": [
    {
     "data": {
      "text/plain": [
       "array([[-1.  ],\n",
       "       [-1.75]])"
      ]
     },
     "execution_count": 364,
     "metadata": {},
     "output_type": "execute_result"
    }
   ],
   "source": [
    "Sw = Sx + Sy\n",
    "Sw\n",
    "muX-muY"
   ]
  },
  {
   "cell_type": "code",
   "execution_count": 365,
   "metadata": {},
   "outputs": [
    {
     "data": {
      "text/plain": [
       "array([[ 1.    ,  1.75  ],\n",
       "       [ 1.75  ,  3.0625]])"
      ]
     },
     "execution_count": 365,
     "metadata": {},
     "output_type": "execute_result"
    }
   ],
   "source": [
    "Sb = (muX-muY).dot((muX-muY).transpose())\n",
    "Sb"
   ]
  },
  {
   "cell_type": "code",
   "execution_count": 366,
   "metadata": {},
   "outputs": [
    {
     "data": {
      "text/plain": [
       "array([[ 0.13853659,  0.06829268],\n",
       "       [ 0.06829268,  0.14634146]])"
      ]
     },
     "execution_count": 366,
     "metadata": {},
     "output_type": "execute_result"
    }
   ],
   "source": [
    "from numpy.linalg import inv\n",
    "inv(Sw)"
   ]
  },
  {
   "cell_type": "code",
   "execution_count": 367,
   "metadata": {},
   "outputs": [
    {
     "data": {
      "text/plain": [
       "array([[ 0.25804878,  0.45158537],\n",
       "       [ 0.32439024,  0.56768293]])"
      ]
     },
     "execution_count": 367,
     "metadata": {},
     "output_type": "execute_result"
    }
   ],
   "source": [
    "S = inv(Sw).dot(Sb)\n",
    "S"
   ]
  },
  {
   "cell_type": "code",
   "execution_count": 368,
   "metadata": {},
   "outputs": [
    {
     "data": {
      "text/plain": [
       "(array([ 0.        ,  0.82573171]), array([[-0.86824314, -0.62253995],\n",
       "        [ 0.49613894, -0.78258802]]))"
      ]
     },
     "execution_count": 368,
     "metadata": {},
     "output_type": "execute_result"
    }
   ],
   "source": [
    "from numpy import linalg as LA\n",
    "LA.eig(S)"
   ]
  },
  {
   "cell_type": "code",
   "execution_count": 369,
   "metadata": {},
   "outputs": [
    {
     "data": {
      "text/plain": [
       "matrix([[-0.62253995],\n",
       "        [-0.78258802]])"
      ]
     },
     "execution_count": 369,
     "metadata": {},
     "output_type": "execute_result"
    }
   ],
   "source": [
    "v = np.matrix(v)\n",
    "v[:,1]"
   ]
  },
  {
   "cell_type": "code",
   "execution_count": 370,
   "metadata": {},
   "outputs": [
    {
     "data": {
      "text/plain": [
       "matrix([[ 0.82573171]])"
      ]
     },
     "execution_count": 370,
     "metadata": {},
     "output_type": "execute_result"
    }
   ],
   "source": [
    "num = v[:,1].transpose().dot(Sb).dot(v[:,1])\n",
    "den = v[:,1].transpose().dot(Sw).dot(v[:,1])\n",
    "J = num/den\n",
    "J"
   ]
  },
  {
   "cell_type": "code",
   "execution_count": 371,
   "metadata": {},
   "outputs": [],
   "source": [
    "def swap(A,B,i,j):\n",
    "    TEMP_B = B[j].copy()\n",
    "    B[j] = A[i]\n",
    "    A[i] = TEMP_B\n",
    "    return A,B"
   ]
  },
  {
   "cell_type": "code",
   "execution_count": 372,
   "metadata": {},
   "outputs": [
    {
     "data": {
      "text/plain": [
       "0.82573170731707302"
      ]
     },
     "execution_count": 372,
     "metadata": {},
     "output_type": "execute_result"
    }
   ],
   "source": [
    "def findJ(x,y):\n",
    "    mux = np.mean(X, axis=0).transpose()\n",
    "    muy = np.mean(Y, axis=0).transpose()\n",
    "    mux = np.array([mux]).transpose()\n",
    "    muy = np.array([muy]).transpose()\n",
    "    sx = 0\n",
    "    for i in range(len(x)):\n",
    "        sx += (np.array([x[i]]).transpose()-mux).dot((np.array([x[i]]).transpose()-mux).transpose())\n",
    "    sy = 0\n",
    "    for i in range(len(y)):\n",
    "        sy += (np.array([y[i]]).transpose()-muy).dot((np.array([y[i]]).transpose()-muy).transpose())\n",
    "    sw = sx + sy\n",
    "    sb = (mux-muy).dot((mux-muy).transpose())\n",
    "    s = inv(sw).dot(sb)\n",
    "    w,v = LA.eig(s)\n",
    "    k = np.argmax(w)\n",
    "    num = v[:,k].transpose().dot(Sb).dot(v[:,k])\n",
    "    den = v[:,k].transpose().dot(Sw).dot(v[:,k])\n",
    "    J = num/den\n",
    "    return J\n",
    "findJ(X,Y)"
   ]
  },
  {
   "cell_type": "code",
   "execution_count": 400,
   "metadata": {},
   "outputs": [],
   "source": [
    "\n",
    "def cluster(x,y):\n",
    "    oldJ = findJ(x,y)\n",
    "    for z in range(1000):\n",
    "        for i in range(len(x)):\n",
    "            for j in range(len(y)):\n",
    "                x,y = swap(x,y,i,j)\n",
    "                newJ = findJ(x,y)\n",
    "                if oldJ > newJ:\n",
    "                    x,y = swap(x,y,i,j)\n",
    "                else:\n",
    "                    begincycle(x,y)\n",
    "    return newJ\n",
    "\n",
    "def begincycle(x,y):\n",
    "    for z in range(1000):\n",
    "        for i in range(len(x)):\n",
    "            for j in range(len(y)):\n",
    "                x,y = swap(x,y,i,j)\n",
    "                newJ = findJ(x,y)\n",
    "                if oldJ > newJ:\n",
    "                    x,y = swap(x,y,i,j)"
   ]
  },
  {
   "cell_type": "code",
   "execution_count": 401,
   "metadata": {},
   "outputs": [
    {
     "data": {
      "text/plain": [
       "0.17395034902092579"
      ]
     },
     "execution_count": 401,
     "metadata": {},
     "output_type": "execute_result"
    }
   ],
   "source": [
    "X = np.array([[1.25,3],[1.5,2],[2,2.75],[2.25,2],[2,0.5],[3.25,0.75],[3.5,2.25],[4.25,0.75]])\n",
    "Y = np.array([[2.75,3.5],[3.25,3],[4.5,2.75],[3.5,4.75]])\n",
    "\n",
    "cluster(X,Y)"
   ]
  },
  {
   "cell_type": "code",
   "execution_count": 402,
   "metadata": {},
   "outputs": [
    {
     "data": {
      "text/plain": [
       "0.41306734992679356"
      ]
     },
     "execution_count": 402,
     "metadata": {},
     "output_type": "execute_result"
    }
   ],
   "source": [
    "newX = np.array([[1.25,3],[1.5,2],[2,2.75],[2.25,2],[2.75,3.5],[3.25,3],[4.5,2.75],[3.5,4.75]])\n",
    "newY = np.array([[2,0.5],[3.25,0.75],[3.5,2.25],[4.25,0.75]])\n",
    "findJ(newX,newY)"
   ]
  },
  {
   "cell_type": "code",
   "execution_count": null,
   "metadata": {},
   "outputs": [],
   "source": []
  }
 ],
 "metadata": {
  "kernelspec": {
   "display_name": "Python 3",
   "language": "python",
   "name": "python3"
  },
  "language_info": {
   "codemirror_mode": {
    "name": "ipython",
    "version": 3
   },
   "file_extension": ".py",
   "mimetype": "text/x-python",
   "name": "python",
   "nbconvert_exporter": "python",
   "pygments_lexer": "ipython3",
   "version": "3.6.2"
  }
 },
 "nbformat": 4,
 "nbformat_minor": 2
}
